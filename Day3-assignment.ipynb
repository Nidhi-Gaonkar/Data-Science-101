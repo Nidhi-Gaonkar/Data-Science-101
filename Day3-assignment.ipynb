{
 "cells": [
  {
   "cell_type": "markdown",
   "metadata": {},
   "source": [
    "# Day 3 Assignment"
   ]
  },
  {
   "cell_type": "markdown",
   "metadata": {},
   "source": [
    "# question 1"
   ]
  },
  {
   "cell_type": "code",
   "execution_count": 2,
   "metadata": {},
   "outputs": [],
   "source": [
    "import numpy as np"
   ]
  },
  {
   "cell_type": "code",
   "execution_count": 3,
   "metadata": {},
   "outputs": [
    {
     "name": "stdout",
     "output_type": "stream",
     "text": [
      "[ 2  5  8 11 14 17 20 23 26 29 32 35 38 41 44 47 50]\n"
     ]
    }
   ],
   "source": [
    "arr = np.arange(2, 51, 3)\n",
    "print(arr)"
   ]
  },
  {
   "cell_type": "markdown",
   "metadata": {},
   "source": [
    "# question 2"
   ]
  },
  {
   "cell_type": "code",
   "execution_count": 38,
   "metadata": {},
   "outputs": [
    {
     "name": "stdout",
     "output_type": "stream",
     "text": [
      "list1\n",
      "2\n",
      "4\n",
      "7\n",
      "12\n",
      "43\n",
      "list2\n",
      "1\n",
      "53\n",
      "87\n",
      "34\n",
      "56\n",
      "concatenated array:  [ 2  4  7 12 43  1 53 87 34 56]\n",
      "sorted array:  [ 1  2  4  7 12 34 43 53 56 87]\n"
     ]
    }
   ],
   "source": [
    "l1=list()\n",
    "l2=list()\n",
    "print(\"list1\")\n",
    "for i in range(5):\n",
    "    a=int(input())\n",
    "    l1.append(a)\n",
    "print(\"list2\")\n",
    "for i in range(5):\n",
    "    a=int(input())\n",
    "    l2.append(a)\n",
    "#print(l2)\n",
    "arr1 = np.array(l1)\n",
    "arr2 = np.array(l2)\n",
    "arr=np.concatenate((arr1,arr2))\n",
    "print(\"concatenated array: \",arr)\n",
    "arr=np.sort(arr)\n",
    "print(\"sorted array: \",arr)"
   ]
  },
  {
   "cell_type": "markdown",
   "metadata": {},
   "source": [
    "# question 3"
   ]
  },
  {
   "cell_type": "code",
   "execution_count": 73,
   "metadata": {},
   "outputs": [
    {
     "name": "stdout",
     "output_type": "stream",
     "text": [
      "dimension of array: 2\n",
      "size of array: 9\n"
     ]
    }
   ],
   "source": [
    "arr = np.array([[1,2,3],[4,5,6],[7,8,9]])\n",
    "# Printing dimensions of array\n",
    "print(\"dimension of array:\",arr.ndim)\n",
    " \n",
    "# Printing size of array\n",
    "print(\"size of array:\",arr.size)"
   ]
  },
  {
   "cell_type": "markdown",
   "metadata": {},
   "source": [
    "# question 4"
   ]
  },
  {
   "cell_type": "code",
   "execution_count": 76,
   "metadata": {},
   "outputs": [
    {
     "name": "stdout",
     "output_type": "stream",
     "text": [
      "using np.expand_dims\n",
      "1D array:\n",
      " [0 1 2 3 4 5]\n",
      "dimension: 1\n",
      "2D array:\n",
      " [[0]\n",
      " [1]\n",
      " [2]\n",
      " [3]\n",
      " [4]\n",
      " [5]]\n",
      "dimension: 2\n",
      "\n",
      "Using np.expand_dims\n",
      "1D array:\n",
      " [0 1 2 3 4 5]\n",
      "dimension: 1\n",
      "2D array:\n",
      " [[0]\n",
      " [1]\n",
      " [2]\n",
      " [3]\n",
      " [4]\n",
      " [5]]\n",
      "dimension: 2\n"
     ]
    }
   ],
   "source": [
    "print(\"using np.expand_dims\")\n",
    "a = np.arange(6)\n",
    "print(\"1D array:\\n\",a)\n",
    "print(\"dimension:\",a.ndim)\n",
    "b=a[:, np.newaxis]\n",
    "print(\"2D array:\\n\",b)\n",
    "print(\"dimension:\",b.ndim)\n",
    "\n",
    "print(\"\\nUsing np.expand_dims\")\n",
    "a = np.arange(6)\n",
    "print(\"1D array:\\n\",a)\n",
    "print(\"dimension:\",a.ndim)\n",
    "\n",
    "b=np.expand_dims(a, 1)\n",
    "print(\"2D array:\\n\",b)\n",
    "print(\"dimension:\",b.ndim)"
   ]
  },
  {
   "cell_type": "markdown",
   "metadata": {},
   "source": [
    "# question 5"
   ]
  },
  {
   "cell_type": "code",
   "execution_count": 36,
   "metadata": {},
   "outputs": [
    {
     "name": "stdout",
     "output_type": "stream",
     "text": [
      " horizontally stacked: \n",
      " [[ 1  2  3 11 12 13]\n",
      " [ 4  5  6 14 15 16]\n",
      " [ 7  8  9 17 18 19]]\n",
      "vertically stacked : \n",
      " [[ 1  2  3]\n",
      " [ 4  5  6]\n",
      " [ 7  8  9]\n",
      " [11 12 13]\n",
      " [14 15 16]\n",
      " [17 18 19]]\n"
     ]
    }
   ],
   "source": [
    "arr1=np.array([[1,2,3],[4,5,6],[7,8,9]])\n",
    "arr2=np.array([[11,12,13],[14,15,16],[17,18,19]])\n",
    "print(\" horizontally stacked: \\n\", np.hstack((arr1,arr2)))\n",
    "\n",
    "print(\"vertically stacked : \\n\", np.vstack((arr1,arr2)))\n"
   ]
  },
  {
   "cell_type": "markdown",
   "metadata": {},
   "source": [
    "# question 6"
   ]
  },
  {
   "cell_type": "code",
   "execution_count": 37,
   "metadata": {},
   "outputs": [
    {
     "name": "stdout",
     "output_type": "stream",
     "text": [
      "[[1 3]\n",
      " [3 1]\n",
      " [4 2]\n",
      " [6 1]\n",
      " [8 1]]\n"
     ]
    }
   ],
   "source": [
    "arr = np.array([3,6,4,1,8,4,1,1])\n",
    "\n",
    "unique, counts = np.unique(arr, return_counts=True)\n",
    "arr = np.asarray((unique, counts)).T\n",
    "print(arr)"
   ]
  },
  {
   "cell_type": "code",
   "execution_count": null,
   "metadata": {},
   "outputs": [],
   "source": []
  }
 ],
 "metadata": {
  "kernelspec": {
   "display_name": "Python 3",
   "language": "python",
   "name": "python3"
  },
  "language_info": {
   "codemirror_mode": {
    "name": "ipython",
    "version": 3
   },
   "file_extension": ".py",
   "mimetype": "text/x-python",
   "name": "python",
   "nbconvert_exporter": "python",
   "pygments_lexer": "ipython3",
   "version": "3.8.3"
  }
 },
 "nbformat": 4,
 "nbformat_minor": 4
}
